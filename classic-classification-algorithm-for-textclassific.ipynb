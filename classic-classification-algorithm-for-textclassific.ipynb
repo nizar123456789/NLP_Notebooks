{
 "cells": [
  {
   "cell_type": "code",
   "execution_count": 1,
   "id": "36923041",
   "metadata": {
    "_cell_guid": "b1076dfc-b9ad-4769-8c92-a6c4dae69d19",
    "_uuid": "8f2839f25d086af736a60e9eeb907d3b93b6e0e5",
    "execution": {
     "iopub.execute_input": "2023-07-27T18:52:40.560882Z",
     "iopub.status.busy": "2023-07-27T18:52:40.560452Z",
     "iopub.status.idle": "2023-07-27T18:52:40.580920Z",
     "shell.execute_reply": "2023-07-27T18:52:40.579561Z"
    },
    "papermill": {
     "duration": 0.036547,
     "end_time": "2023-07-27T18:52:40.583002",
     "exception": false,
     "start_time": "2023-07-27T18:52:40.546455",
     "status": "completed"
    },
    "tags": []
   },
   "outputs": [
    {
     "name": "stdout",
     "output_type": "stream",
     "text": [
      "/kaggle/input/covid-19-nlp-text-classification/Corona_NLP_test.csv\n",
      "/kaggle/input/covid-19-nlp-text-classification/Corona_NLP_train.csv\n"
     ]
    }
   ],
   "source": [
    "# This Python 3 environment comes with many helpful analytics libraries installed\n",
    "# It is defined by the kaggle/python Docker image: https://github.com/kaggle/docker-python\n",
    "# For example, here's several helpful packages to load\n",
    "\n",
    "import numpy as np # linear algebra\n",
    "import pandas as pd # data processing, CSV file I/O (e.g. pd.read_csv)\n",
    "\n",
    "# Input data files are available in the read-only \"../input/\" directory\n",
    "# For example, running this (by clicking run or pressing Shift+Enter) will list all files under the input directory\n",
    "\n",
    "import os\n",
    "for dirname, _, filenames in os.walk('/kaggle/input'):\n",
    "    for filename in filenames:\n",
    "        print(os.path.join(dirname, filename))\n",
    "\n",
    "# You can write up to 20GB to the current directory (/kaggle/working/) that gets preserved as output when you create a version using \"Save & Run All\" \n",
    "# You can also write temporary files to /kaggle/temp/, but they won't be saved outside of the current session"
   ]
  },
  {
   "cell_type": "code",
   "execution_count": 2,
   "id": "b782f44e",
   "metadata": {
    "execution": {
     "iopub.execute_input": "2023-07-27T18:52:40.608446Z",
     "iopub.status.busy": "2023-07-27T18:52:40.607653Z",
     "iopub.status.idle": "2023-07-27T18:53:01.507555Z",
     "shell.execute_reply": "2023-07-27T18:53:01.506184Z"
    },
    "papermill": {
     "duration": 20.914976,
     "end_time": "2023-07-27T18:53:01.510078",
     "exception": false,
     "start_time": "2023-07-27T18:52:40.595102",
     "status": "completed"
    },
    "tags": []
   },
   "outputs": [
    {
     "name": "stderr",
     "output_type": "stream",
     "text": [
      "/opt/conda/lib/python3.10/site-packages/scipy/__init__.py:146: UserWarning: A NumPy version >=1.16.5 and <1.23.0 is required for this version of SciPy (detected version 1.23.5\n",
      "  warnings.warn(f\"A NumPy version >={np_minversion} and <{np_maxversion}\"\n",
      "/opt/conda/lib/python3.10/site-packages/tensorflow_io/python/ops/__init__.py:98: UserWarning: unable to load libtensorflow_io_plugins.so: unable to open file: libtensorflow_io_plugins.so, from paths: ['/opt/conda/lib/python3.10/site-packages/tensorflow_io/python/ops/libtensorflow_io_plugins.so']\n",
      "caused by: ['/opt/conda/lib/python3.10/site-packages/tensorflow_io/python/ops/libtensorflow_io_plugins.so: undefined symbol: _ZN3tsl6StatusC1EN10tensorflow5error4CodeESt17basic_string_viewIcSt11char_traitsIcEENS_14SourceLocationE']\n",
      "  warnings.warn(f\"unable to load libtensorflow_io_plugins.so: {e}\")\n",
      "/opt/conda/lib/python3.10/site-packages/tensorflow_io/python/ops/__init__.py:104: UserWarning: file system plugins are not loaded: unable to open file: libtensorflow_io.so, from paths: ['/opt/conda/lib/python3.10/site-packages/tensorflow_io/python/ops/libtensorflow_io.so']\n",
      "caused by: ['/opt/conda/lib/python3.10/site-packages/tensorflow_io/python/ops/libtensorflow_io.so: undefined symbol: _ZTVN10tensorflow13GcsFileSystemE']\n",
      "  warnings.warn(f\"file system plugins are not loaded: {e}\")\n"
     ]
    }
   ],
   "source": [
    "import pandas as pd \n",
    "import numpy as np \n",
    "import spacy\n",
    "from transformers import DistilBertTokenizer\n",
    "from transformers import TFDistilBertForSequenceClassification\n",
    "from transformers import TextClassificationPipeline\n",
    "\n",
    "import tensorflow as tf"
   ]
  },
  {
   "cell_type": "code",
   "execution_count": 3,
   "id": "fa1bedc0",
   "metadata": {
    "execution": {
     "iopub.execute_input": "2023-07-27T18:53:01.536618Z",
     "iopub.status.busy": "2023-07-27T18:53:01.536294Z",
     "iopub.status.idle": "2023-07-27T18:53:01.837255Z",
     "shell.execute_reply": "2023-07-27T18:53:01.836183Z"
    },
    "papermill": {
     "duration": 0.317215,
     "end_time": "2023-07-27T18:53:01.839869",
     "exception": false,
     "start_time": "2023-07-27T18:53:01.522654",
     "status": "completed"
    },
    "tags": []
   },
   "outputs": [],
   "source": [
    "data_train=pd.read_csv('/kaggle/input/covid-19-nlp-text-classification/Corona_NLP_train.csv',encoding='latin-1')\n",
    "data_test=pd.read_csv('/kaggle/input/covid-19-nlp-text-classification/Corona_NLP_test.csv',encoding='latin-1')"
   ]
  },
  {
   "cell_type": "code",
   "execution_count": 4,
   "id": "c214b3aa",
   "metadata": {
    "execution": {
     "iopub.execute_input": "2023-07-27T18:53:01.865552Z",
     "iopub.status.busy": "2023-07-27T18:53:01.864929Z",
     "iopub.status.idle": "2023-07-27T18:53:01.872932Z",
     "shell.execute_reply": "2023-07-27T18:53:01.871995Z"
    },
    "papermill": {
     "duration": 0.023386,
     "end_time": "2023-07-27T18:53:01.875044",
     "exception": false,
     "start_time": "2023-07-27T18:53:01.851658",
     "status": "completed"
    },
    "tags": []
   },
   "outputs": [
    {
     "data": {
      "text/plain": [
       "((41157, 6), (3798, 6))"
      ]
     },
     "execution_count": 4,
     "metadata": {},
     "output_type": "execute_result"
    }
   ],
   "source": [
    "data_train.shape,data_test.shape"
   ]
  },
  {
   "cell_type": "code",
   "execution_count": 5,
   "id": "1398d1a9",
   "metadata": {
    "execution": {
     "iopub.execute_input": "2023-07-27T18:53:01.900026Z",
     "iopub.status.busy": "2023-07-27T18:53:01.899570Z",
     "iopub.status.idle": "2023-07-27T18:53:01.906287Z",
     "shell.execute_reply": "2023-07-27T18:53:01.905323Z"
    },
    "papermill": {
     "duration": 0.021547,
     "end_time": "2023-07-27T18:53:01.908297",
     "exception": false,
     "start_time": "2023-07-27T18:53:01.886750",
     "status": "completed"
    },
    "tags": []
   },
   "outputs": [
    {
     "data": {
      "text/plain": [
       "Index(['UserName', 'ScreenName', 'Location', 'TweetAt', 'OriginalTweet',\n",
       "       'Sentiment'],\n",
       "      dtype='object')"
      ]
     },
     "execution_count": 5,
     "metadata": {},
     "output_type": "execute_result"
    }
   ],
   "source": [
    "data_train.keys()"
   ]
  },
  {
   "cell_type": "code",
   "execution_count": 6,
   "id": "4d67e7a6",
   "metadata": {
    "execution": {
     "iopub.execute_input": "2023-07-27T18:53:01.933181Z",
     "iopub.status.busy": "2023-07-27T18:53:01.932387Z",
     "iopub.status.idle": "2023-07-27T18:53:01.945001Z",
     "shell.execute_reply": "2023-07-27T18:53:01.944163Z"
    },
    "papermill": {
     "duration": 0.0273,
     "end_time": "2023-07-27T18:53:01.947080",
     "exception": false,
     "start_time": "2023-07-27T18:53:01.919780",
     "status": "completed"
    },
    "tags": []
   },
   "outputs": [],
   "source": [
    "data_train=data_train.drop([\"UserName\",\"ScreenName\",\"Location\",\"TweetAt\"],axis=1)"
   ]
  },
  {
   "cell_type": "code",
   "execution_count": 7,
   "id": "054378df",
   "metadata": {
    "execution": {
     "iopub.execute_input": "2023-07-27T18:53:01.973534Z",
     "iopub.status.busy": "2023-07-27T18:53:01.972957Z",
     "iopub.status.idle": "2023-07-27T18:53:01.986835Z",
     "shell.execute_reply": "2023-07-27T18:53:01.985728Z"
    },
    "papermill": {
     "duration": 0.029425,
     "end_time": "2023-07-27T18:53:01.989162",
     "exception": false,
     "start_time": "2023-07-27T18:53:01.959737",
     "status": "completed"
    },
    "tags": []
   },
   "outputs": [
    {
     "data": {
      "text/html": [
       "<div>\n",
       "<style scoped>\n",
       "    .dataframe tbody tr th:only-of-type {\n",
       "        vertical-align: middle;\n",
       "    }\n",
       "\n",
       "    .dataframe tbody tr th {\n",
       "        vertical-align: top;\n",
       "    }\n",
       "\n",
       "    .dataframe thead th {\n",
       "        text-align: right;\n",
       "    }\n",
       "</style>\n",
       "<table border=\"1\" class=\"dataframe\">\n",
       "  <thead>\n",
       "    <tr style=\"text-align: right;\">\n",
       "      <th></th>\n",
       "      <th>OriginalTweet</th>\n",
       "      <th>Sentiment</th>\n",
       "    </tr>\n",
       "  </thead>\n",
       "  <tbody>\n",
       "    <tr>\n",
       "      <th>0</th>\n",
       "      <td>@MeNyrbie @Phil_Gahan @Chrisitv https://t.co/i...</td>\n",
       "      <td>Neutral</td>\n",
       "    </tr>\n",
       "    <tr>\n",
       "      <th>1</th>\n",
       "      <td>advice Talk to your neighbours family to excha...</td>\n",
       "      <td>Positive</td>\n",
       "    </tr>\n",
       "    <tr>\n",
       "      <th>2</th>\n",
       "      <td>Coronavirus Australia: Woolworths to give elde...</td>\n",
       "      <td>Positive</td>\n",
       "    </tr>\n",
       "    <tr>\n",
       "      <th>3</th>\n",
       "      <td>My food stock is not the only one which is emp...</td>\n",
       "      <td>Positive</td>\n",
       "    </tr>\n",
       "    <tr>\n",
       "      <th>4</th>\n",
       "      <td>Me, ready to go at supermarket during the #COV...</td>\n",
       "      <td>Extremely Negative</td>\n",
       "    </tr>\n",
       "  </tbody>\n",
       "</table>\n",
       "</div>"
      ],
      "text/plain": [
       "                                       OriginalTweet           Sentiment\n",
       "0  @MeNyrbie @Phil_Gahan @Chrisitv https://t.co/i...             Neutral\n",
       "1  advice Talk to your neighbours family to excha...            Positive\n",
       "2  Coronavirus Australia: Woolworths to give elde...            Positive\n",
       "3  My food stock is not the only one which is emp...            Positive\n",
       "4  Me, ready to go at supermarket during the #COV...  Extremely Negative"
      ]
     },
     "execution_count": 7,
     "metadata": {},
     "output_type": "execute_result"
    }
   ],
   "source": [
    "data_train.head(5)"
   ]
  },
  {
   "cell_type": "code",
   "execution_count": 8,
   "id": "60aa2750",
   "metadata": {
    "execution": {
     "iopub.execute_input": "2023-07-27T18:53:02.017354Z",
     "iopub.status.busy": "2023-07-27T18:53:02.016492Z",
     "iopub.status.idle": "2023-07-27T18:53:02.035419Z",
     "shell.execute_reply": "2023-07-27T18:53:02.034351Z"
    },
    "papermill": {
     "duration": 0.034695,
     "end_time": "2023-07-27T18:53:02.037624",
     "exception": false,
     "start_time": "2023-07-27T18:53:02.002929",
     "status": "completed"
    },
    "tags": []
   },
   "outputs": [
    {
     "data": {
      "text/plain": [
       "Positive              11422\n",
       "Negative               9917\n",
       "Neutral                7713\n",
       "Extremely Positive     6624\n",
       "Extremely Negative     5481\n",
       "Name: Sentiment, dtype: int64"
      ]
     },
     "execution_count": 8,
     "metadata": {},
     "output_type": "execute_result"
    }
   ],
   "source": [
    "data_train.Sentiment.value_counts()"
   ]
  },
  {
   "cell_type": "markdown",
   "id": "555fe732",
   "metadata": {
    "papermill": {
     "duration": 0.012812,
     "end_time": "2023-07-27T18:53:02.063204",
     "exception": false,
     "start_time": "2023-07-27T18:53:02.050392",
     "status": "completed"
    },
    "tags": []
   },
   "source": [
    "### Unbalanced data\n"
   ]
  },
  {
   "cell_type": "markdown",
   "id": "a033158d",
   "metadata": {
    "papermill": {
     "duration": 0.012059,
     "end_time": "2023-07-27T18:53:02.087627",
     "exception": false,
     "start_time": "2023-07-27T18:53:02.075568",
     "status": "completed"
    },
    "tags": []
   },
   "source": [
    "We notice that the data in this case in  unbalanced witch will affect the model significantly\n",
    "so to solve the issue we will extract from all categories equal samples and make a new dataframe balanced \n"
   ]
  },
  {
   "cell_type": "code",
   "execution_count": 9,
   "id": "d0416568",
   "metadata": {
    "execution": {
     "iopub.execute_input": "2023-07-27T18:53:02.114176Z",
     "iopub.status.busy": "2023-07-27T18:53:02.113464Z",
     "iopub.status.idle": "2023-07-27T18:53:02.119874Z",
     "shell.execute_reply": "2023-07-27T18:53:02.118880Z"
    },
    "papermill": {
     "duration": 0.021987,
     "end_time": "2023-07-27T18:53:02.121975",
     "exception": false,
     "start_time": "2023-07-27T18:53:02.099988",
     "status": "completed"
    },
    "tags": []
   },
   "outputs": [],
   "source": [
    "df=data_train.copy()"
   ]
  },
  {
   "cell_type": "code",
   "execution_count": 10,
   "id": "68da45e0",
   "metadata": {
    "execution": {
     "iopub.execute_input": "2023-07-27T18:53:02.147828Z",
     "iopub.status.busy": "2023-07-27T18:53:02.146985Z",
     "iopub.status.idle": "2023-07-27T18:53:02.195771Z",
     "shell.execute_reply": "2023-07-27T18:53:02.194803Z"
    },
    "papermill": {
     "duration": 0.063852,
     "end_time": "2023-07-27T18:53:02.198052",
     "exception": false,
     "start_time": "2023-07-27T18:53:02.134200",
     "status": "completed"
    },
    "tags": []
   },
   "outputs": [],
   "source": [
    "df_Neutral=df[df[\"Sentiment\"]==\"Neutral\"].sample(5481,random_state=100)\n",
    "df_Positive=df[df[\"Sentiment\"]==\"Positive\"].sample(5481,random_state=100)\n",
    "df_Negative=df[df[\"Sentiment\"]==\"Negative\"].sample(5481,random_state=100)\n",
    "df_ExPositive=df[df[\"Sentiment\"]==\"Extremely Positive\"].sample(5481,random_state=100)\n",
    "df_ExNegative=df[df[\"Sentiment\"]==\"Extremely Negative\"].sample(5481,random_state=100)"
   ]
  },
  {
   "cell_type": "code",
   "execution_count": 11,
   "id": "343974fc",
   "metadata": {
    "execution": {
     "iopub.execute_input": "2023-07-27T18:53:02.223845Z",
     "iopub.status.busy": "2023-07-27T18:53:02.222994Z",
     "iopub.status.idle": "2023-07-27T18:53:02.230326Z",
     "shell.execute_reply": "2023-07-27T18:53:02.229424Z"
    },
    "papermill": {
     "duration": 0.022124,
     "end_time": "2023-07-27T18:53:02.232329",
     "exception": false,
     "start_time": "2023-07-27T18:53:02.210205",
     "status": "completed"
    },
    "tags": []
   },
   "outputs": [],
   "source": [
    "final_data=pd.concat([df_Neutral,df_Positive,df_Negative,df_ExNegative,df_ExPositive])"
   ]
  },
  {
   "cell_type": "code",
   "execution_count": 12,
   "id": "0595440b",
   "metadata": {
    "execution": {
     "iopub.execute_input": "2023-07-27T18:53:02.259071Z",
     "iopub.status.busy": "2023-07-27T18:53:02.257581Z",
     "iopub.status.idle": "2023-07-27T18:53:02.269113Z",
     "shell.execute_reply": "2023-07-27T18:53:02.268144Z"
    },
    "papermill": {
     "duration": 0.027114,
     "end_time": "2023-07-27T18:53:02.271310",
     "exception": false,
     "start_time": "2023-07-27T18:53:02.244196",
     "status": "completed"
    },
    "tags": []
   },
   "outputs": [
    {
     "data": {
      "text/plain": [
       "Neutral               5481\n",
       "Positive              5481\n",
       "Negative              5481\n",
       "Extremely Negative    5481\n",
       "Extremely Positive    5481\n",
       "Name: Sentiment, dtype: int64"
      ]
     },
     "execution_count": 12,
     "metadata": {},
     "output_type": "execute_result"
    }
   ],
   "source": [
    "final_data[\"Sentiment\"].value_counts()"
   ]
  },
  {
   "cell_type": "markdown",
   "id": "2a872c05",
   "metadata": {
    "papermill": {
     "duration": 0.011969,
     "end_time": "2023-07-27T18:53:02.295396",
     "exception": false,
     "start_time": "2023-07-27T18:53:02.283427",
     "status": "completed"
    },
    "tags": []
   },
   "source": [
    "# Preprocessing "
   ]
  },
  {
   "cell_type": "markdown",
   "id": "d884710d",
   "metadata": {
    "papermill": {
     "duration": 0.011905,
     "end_time": "2023-07-27T18:53:02.319324",
     "exception": false,
     "start_time": "2023-07-27T18:53:02.307419",
     "status": "completed"
    },
    "tags": []
   },
   "source": [
    "We remove all the emojies ans symbols from the tweets "
   ]
  },
  {
   "cell_type": "code",
   "execution_count": 13,
   "id": "4781c53e",
   "metadata": {
    "execution": {
     "iopub.execute_input": "2023-07-27T18:53:02.346128Z",
     "iopub.status.busy": "2023-07-27T18:53:02.345084Z",
     "iopub.status.idle": "2023-07-27T18:53:02.350875Z",
     "shell.execute_reply": "2023-07-27T18:53:02.349911Z"
    },
    "papermill": {
     "duration": 0.021771,
     "end_time": "2023-07-27T18:53:02.353026",
     "exception": false,
     "start_time": "2023-07-27T18:53:02.331255",
     "status": "completed"
    },
    "tags": []
   },
   "outputs": [],
   "source": [
    "import re\n",
    "def remove_all_emojies(text):\n",
    "    emoji_pattern = re.compile(\"[\"\n",
    "        u\"\\U0001F600-\\U0001F64F\"  # emoticons\n",
    "        u\"\\U0001F300-\\U0001F5FF\"  # symbols & pictographs\n",
    "        u\"\\U0001F680-\\U0001F6FF\"  # transport & map symbols\n",
    "        u\"\\U0001F1E0-\\U0001F1FF\"  # flags (iOS)\n",
    "                           \"]+\", flags=re.UNICODE)\n",
    "    return emoji_pattern.sub(r'', text)\n",
    "    "
   ]
  },
  {
   "cell_type": "code",
   "execution_count": 14,
   "id": "feb2e312",
   "metadata": {
    "execution": {
     "iopub.execute_input": "2023-07-27T18:53:02.379435Z",
     "iopub.status.busy": "2023-07-27T18:53:02.378604Z",
     "iopub.status.idle": "2023-07-27T18:53:02.457891Z",
     "shell.execute_reply": "2023-07-27T18:53:02.456892Z"
    },
    "papermill": {
     "duration": 0.095118,
     "end_time": "2023-07-27T18:53:02.460298",
     "exception": false,
     "start_time": "2023-07-27T18:53:02.365180",
     "status": "completed"
    },
    "tags": []
   },
   "outputs": [],
   "source": [
    "final_data[\"Sentiment\"]=final_data[\"Sentiment\"].apply(remove_all_emojies)"
   ]
  },
  {
   "cell_type": "code",
   "execution_count": 15,
   "id": "24cb3e18",
   "metadata": {
    "execution": {
     "iopub.execute_input": "2023-07-27T18:53:02.486313Z",
     "iopub.status.busy": "2023-07-27T18:53:02.485992Z",
     "iopub.status.idle": "2023-07-27T18:53:03.671252Z",
     "shell.execute_reply": "2023-07-27T18:53:03.670196Z"
    },
    "papermill": {
     "duration": 1.201028,
     "end_time": "2023-07-27T18:53:03.673799",
     "exception": false,
     "start_time": "2023-07-27T18:53:02.472771",
     "status": "completed"
    },
    "tags": []
   },
   "outputs": [],
   "source": [
    "nlp=spacy.load(\"en_core_web_sm\")\n",
    "def remove_stop_words(text):\n",
    "    docs=nlp(text)\n",
    "    none_stop_words=list()\n",
    "    for token in docs:\n",
    "        if token.is_stop or token.is_punct:\n",
    "            continue\n",
    "        none_stop_words.append(token.text)\n",
    "    return \" \".join(none_stop_words)"
   ]
  },
  {
   "cell_type": "markdown",
   "id": "23f5bf7a",
   "metadata": {
    "papermill": {
     "duration": 0.012396,
     "end_time": "2023-07-27T18:53:03.699056",
     "exception": false,
     "start_time": "2023-07-27T18:53:03.686660",
     "status": "completed"
    },
    "tags": []
   },
   "source": [
    "We remove all the stop words like is ,always ,usual"
   ]
  },
  {
   "cell_type": "code",
   "execution_count": 16,
   "id": "2ebe1c0d",
   "metadata": {
    "execution": {
     "iopub.execute_input": "2023-07-27T18:53:03.725943Z",
     "iopub.status.busy": "2023-07-27T18:53:03.725567Z",
     "iopub.status.idle": "2023-07-27T18:55:31.159719Z",
     "shell.execute_reply": "2023-07-27T18:55:31.158675Z"
    },
    "papermill": {
     "duration": 147.450761,
     "end_time": "2023-07-27T18:55:31.162445",
     "exception": false,
     "start_time": "2023-07-27T18:53:03.711684",
     "status": "completed"
    },
    "tags": []
   },
   "outputs": [],
   "source": [
    "final_data[\"Sentiment\"]=final_data[\"Sentiment\"].apply(remove_stop_words)"
   ]
  },
  {
   "cell_type": "code",
   "execution_count": 17,
   "id": "036502b1",
   "metadata": {
    "execution": {
     "iopub.execute_input": "2023-07-27T18:55:31.190751Z",
     "iopub.status.busy": "2023-07-27T18:55:31.188889Z",
     "iopub.status.idle": "2023-07-27T18:55:31.203061Z",
     "shell.execute_reply": "2023-07-27T18:55:31.202093Z"
    },
    "papermill": {
     "duration": 0.029819,
     "end_time": "2023-07-27T18:55:31.205210",
     "exception": false,
     "start_time": "2023-07-27T18:55:31.175391",
     "status": "completed"
    },
    "tags": []
   },
   "outputs": [],
   "source": [
    "final_data[\"Sentiment\"]=final_data[\"Sentiment\"].map({\"Positive\":1,\"Negative\":2,\"Neutral\":3,\"Extremely Positive\":4,\"Extremely Negative\":5})"
   ]
  },
  {
   "cell_type": "code",
   "execution_count": 18,
   "id": "c96005eb",
   "metadata": {
    "execution": {
     "iopub.execute_input": "2023-07-27T18:55:31.232690Z",
     "iopub.status.busy": "2023-07-27T18:55:31.232402Z",
     "iopub.status.idle": "2023-07-27T18:55:31.256910Z",
     "shell.execute_reply": "2023-07-27T18:55:31.255943Z"
    },
    "papermill": {
     "duration": 0.041434,
     "end_time": "2023-07-27T18:55:31.258958",
     "exception": false,
     "start_time": "2023-07-27T18:55:31.217524",
     "status": "completed"
    },
    "tags": []
   },
   "outputs": [],
   "source": [
    "from sklearn.model_selection import train_test_split\n",
    "X_train,X_test,y_train,y_test=train_test_split(final_data.OriginalTweet,final_data.Sentiment,test_size=0.2,random_state=10)"
   ]
  },
  {
   "cell_type": "code",
   "execution_count": 19,
   "id": "16c8b378",
   "metadata": {
    "execution": {
     "iopub.execute_input": "2023-07-27T18:55:31.286896Z",
     "iopub.status.busy": "2023-07-27T18:55:31.285931Z",
     "iopub.status.idle": "2023-07-27T18:55:31.306290Z",
     "shell.execute_reply": "2023-07-27T18:55:31.305273Z"
    },
    "papermill": {
     "duration": 0.036933,
     "end_time": "2023-07-27T18:55:31.308687",
     "exception": false,
     "start_time": "2023-07-27T18:55:31.271754",
     "status": "completed"
    },
    "tags": []
   },
   "outputs": [],
   "source": [
    "from sklearn.feature_extraction.text import TfidfVectorizer"
   ]
  },
  {
   "cell_type": "code",
   "execution_count": 20,
   "id": "fb81f904",
   "metadata": {
    "execution": {
     "iopub.execute_input": "2023-07-27T18:55:31.337391Z",
     "iopub.status.busy": "2023-07-27T18:55:31.337040Z",
     "iopub.status.idle": "2023-07-27T18:55:31.341669Z",
     "shell.execute_reply": "2023-07-27T18:55:31.340591Z"
    },
    "papermill": {
     "duration": 0.021358,
     "end_time": "2023-07-27T18:55:31.343964",
     "exception": false,
     "start_time": "2023-07-27T18:55:31.322606",
     "status": "completed"
    },
    "tags": []
   },
   "outputs": [],
   "source": [
    "from sklearn.metrics import classification_report "
   ]
  },
  {
   "cell_type": "code",
   "execution_count": 21,
   "id": "04abbd1f",
   "metadata": {
    "execution": {
     "iopub.execute_input": "2023-07-27T18:55:31.373249Z",
     "iopub.status.busy": "2023-07-27T18:55:31.372264Z",
     "iopub.status.idle": "2023-07-27T18:55:31.377439Z",
     "shell.execute_reply": "2023-07-27T18:55:31.376489Z"
    },
    "papermill": {
     "duration": 0.021982,
     "end_time": "2023-07-27T18:55:31.379590",
     "exception": false,
     "start_time": "2023-07-27T18:55:31.357608",
     "status": "completed"
    },
    "tags": []
   },
   "outputs": [],
   "source": [
    "from sklearn.feature_extraction.text import CountVectorizer"
   ]
  },
  {
   "cell_type": "markdown",
   "id": "43f1ae1d",
   "metadata": {
    "papermill": {
     "duration": 0.01329,
     "end_time": "2023-07-27T18:55:31.406431",
     "exception": false,
     "start_time": "2023-07-27T18:55:31.393141",
     "status": "completed"
    },
    "tags": []
   },
   "source": [
    "converting the text data into vectors "
   ]
  },
  {
   "cell_type": "code",
   "execution_count": 22,
   "id": "f89babe3",
   "metadata": {
    "execution": {
     "iopub.execute_input": "2023-07-27T18:55:31.435975Z",
     "iopub.status.busy": "2023-07-27T18:55:31.434982Z",
     "iopub.status.idle": "2023-07-27T18:55:32.667760Z",
     "shell.execute_reply": "2023-07-27T18:55:32.666472Z"
    },
    "papermill": {
     "duration": 1.249805,
     "end_time": "2023-07-27T18:55:32.670194",
     "exception": false,
     "start_time": "2023-07-27T18:55:31.420389",
     "status": "completed"
    },
    "tags": []
   },
   "outputs": [],
   "source": [
    "v=CountVectorizer()\n",
    "X_train_dtm=v.fit_transform(X_train)\n",
    "X_test_dtm=v.transform(X_test)"
   ]
  },
  {
   "cell_type": "markdown",
   "id": "9f597e18",
   "metadata": {
    "papermill": {
     "duration": 0.011828,
     "end_time": "2023-07-27T18:55:32.694473",
     "exception": false,
     "start_time": "2023-07-27T18:55:32.682645",
     "status": "completed"
    },
    "tags": []
   },
   "source": [
    "First of all we will try NaiveBayesClassifier "
   ]
  },
  {
   "cell_type": "code",
   "execution_count": 23,
   "id": "83fba55d",
   "metadata": {
    "execution": {
     "iopub.execute_input": "2023-07-27T18:55:32.719857Z",
     "iopub.status.busy": "2023-07-27T18:55:32.719531Z",
     "iopub.status.idle": "2023-07-27T18:55:32.731713Z",
     "shell.execute_reply": "2023-07-27T18:55:32.730794Z"
    },
    "papermill": {
     "duration": 0.028368,
     "end_time": "2023-07-27T18:55:32.734738",
     "exception": false,
     "start_time": "2023-07-27T18:55:32.706370",
     "status": "completed"
    },
    "tags": []
   },
   "outputs": [],
   "source": [
    "from sklearn.naive_bayes import MultinomialNB"
   ]
  },
  {
   "cell_type": "code",
   "execution_count": 24,
   "id": "9c8a400f",
   "metadata": {
    "execution": {
     "iopub.execute_input": "2023-07-27T18:55:32.761751Z",
     "iopub.status.busy": "2023-07-27T18:55:32.760845Z",
     "iopub.status.idle": "2023-07-27T18:55:32.787813Z",
     "shell.execute_reply": "2023-07-27T18:55:32.786798Z"
    },
    "papermill": {
     "duration": 0.042389,
     "end_time": "2023-07-27T18:55:32.790099",
     "exception": false,
     "start_time": "2023-07-27T18:55:32.747710",
     "status": "completed"
    },
    "tags": []
   },
   "outputs": [],
   "source": [
    "nb=MultinomialNB()\n",
    "nb.fit(X_train_dtm,y_train)\n",
    "y_pred=nb.predict(X_test_dtm)"
   ]
  },
  {
   "cell_type": "markdown",
   "id": "0e62f915",
   "metadata": {
    "papermill": {
     "duration": 0.012038,
     "end_time": "2023-07-27T18:55:32.815063",
     "exception": false,
     "start_time": "2023-07-27T18:55:32.803025",
     "status": "completed"
    },
    "tags": []
   },
   "source": [
    "We notice that NaiveBayesClassifier did poor performance specially in the first class "
   ]
  },
  {
   "cell_type": "code",
   "execution_count": 25,
   "id": "e459eb13",
   "metadata": {
    "execution": {
     "iopub.execute_input": "2023-07-27T18:55:32.840804Z",
     "iopub.status.busy": "2023-07-27T18:55:32.840468Z",
     "iopub.status.idle": "2023-07-27T18:55:32.863896Z",
     "shell.execute_reply": "2023-07-27T18:55:32.862854Z"
    },
    "papermill": {
     "duration": 0.038972,
     "end_time": "2023-07-27T18:55:32.866193",
     "exception": false,
     "start_time": "2023-07-27T18:55:32.827221",
     "status": "completed"
    },
    "tags": []
   },
   "outputs": [
    {
     "name": "stdout",
     "output_type": "stream",
     "text": [
      "              precision    recall  f1-score   support\n",
      "\n",
      "           1       0.28      0.35      0.31       873\n",
      "           2       0.29      0.39      0.33       785\n",
      "           3       0.43      0.71      0.53       648\n",
      "           4       0.73      0.54      0.62      1557\n",
      "           5       0.78      0.51      0.62      1618\n",
      "\n",
      "    accuracy                           0.50      5481\n",
      "   macro avg       0.50      0.50      0.48      5481\n",
      "weighted avg       0.57      0.50      0.52      5481\n",
      "\n"
     ]
    }
   ],
   "source": [
    "print(classification_report(y_pred,y_test))"
   ]
  },
  {
   "cell_type": "markdown",
   "id": "047d4020",
   "metadata": {
    "papermill": {
     "duration": 0.012149,
     "end_time": "2023-07-27T18:55:32.891409",
     "exception": false,
     "start_time": "2023-07-27T18:55:32.879260",
     "status": "completed"
    },
    "tags": []
   },
   "source": [
    "We will try logisticRegression and see its performance "
   ]
  },
  {
   "cell_type": "code",
   "execution_count": 26,
   "id": "75f1d942",
   "metadata": {
    "execution": {
     "iopub.execute_input": "2023-07-27T18:55:32.918010Z",
     "iopub.status.busy": "2023-07-27T18:55:32.917672Z",
     "iopub.status.idle": "2023-07-27T18:55:41.998565Z",
     "shell.execute_reply": "2023-07-27T18:55:41.997232Z"
    },
    "papermill": {
     "duration": 9.098688,
     "end_time": "2023-07-27T18:55:42.002540",
     "exception": false,
     "start_time": "2023-07-27T18:55:32.903852",
     "status": "completed"
    },
    "tags": []
   },
   "outputs": [
    {
     "name": "stderr",
     "output_type": "stream",
     "text": [
      "/opt/conda/lib/python3.10/site-packages/sklearn/linear_model/_logistic.py:458: ConvergenceWarning: lbfgs failed to converge (status=1):\n",
      "STOP: TOTAL NO. of ITERATIONS REACHED LIMIT.\n",
      "\n",
      "Increase the number of iterations (max_iter) or scale the data as shown in:\n",
      "    https://scikit-learn.org/stable/modules/preprocessing.html\n",
      "Please also refer to the documentation for alternative solver options:\n",
      "    https://scikit-learn.org/stable/modules/linear_model.html#logistic-regression\n",
      "  n_iter_i = _check_optimize_result(\n"
     ]
    }
   ],
   "source": [
    "from sklearn.linear_model import LogisticRegression\n",
    "logreg=LogisticRegression(class_weight=\"balanced\")\n",
    "logreg.fit(X_train_dtm,y_train)\n",
    "y_pred_class=logreg.predict(X_test_dtm)"
   ]
  },
  {
   "cell_type": "code",
   "execution_count": 27,
   "id": "15f7af70",
   "metadata": {
    "execution": {
     "iopub.execute_input": "2023-07-27T18:55:42.061744Z",
     "iopub.status.busy": "2023-07-27T18:55:42.061153Z",
     "iopub.status.idle": "2023-07-27T18:55:42.067282Z",
     "shell.execute_reply": "2023-07-27T18:55:42.066208Z"
    },
    "papermill": {
     "duration": 0.03779,
     "end_time": "2023-07-27T18:55:42.069457",
     "exception": false,
     "start_time": "2023-07-27T18:55:42.031667",
     "status": "completed"
    },
    "tags": []
   },
   "outputs": [],
   "source": [
    "from sklearn import metrics"
   ]
  },
  {
   "cell_type": "markdown",
   "id": "c235a75b",
   "metadata": {
    "papermill": {
     "duration": 0.012978,
     "end_time": "2023-07-27T18:55:42.095433",
     "exception": false,
     "start_time": "2023-07-27T18:55:42.082455",
     "status": "completed"
    },
    "tags": []
   },
   "source": [
    "We see that the LogisticRegression did slightly better than the previous algorithms "
   ]
  },
  {
   "cell_type": "code",
   "execution_count": 28,
   "id": "c8185552",
   "metadata": {
    "execution": {
     "iopub.execute_input": "2023-07-27T18:55:42.123851Z",
     "iopub.status.busy": "2023-07-27T18:55:42.122888Z",
     "iopub.status.idle": "2023-07-27T18:55:42.130390Z",
     "shell.execute_reply": "2023-07-27T18:55:42.128999Z"
    },
    "papermill": {
     "duration": 0.023829,
     "end_time": "2023-07-27T18:55:42.132457",
     "exception": false,
     "start_time": "2023-07-27T18:55:42.108628",
     "status": "completed"
    },
    "tags": []
   },
   "outputs": [
    {
     "name": "stdout",
     "output_type": "stream",
     "text": [
      "Accuracy 0.6112023353402664\n"
     ]
    }
   ],
   "source": [
    "print(\"Accuracy\",metrics.accuracy_score(y_test,y_pred_class))"
   ]
  },
  {
   "cell_type": "code",
   "execution_count": null,
   "id": "7b9ea76b",
   "metadata": {
    "papermill": {
     "duration": 0.012318,
     "end_time": "2023-07-27T18:55:42.157252",
     "exception": false,
     "start_time": "2023-07-27T18:55:42.144934",
     "status": "completed"
    },
    "tags": []
   },
   "outputs": [],
   "source": []
  },
  {
   "cell_type": "code",
   "execution_count": null,
   "id": "641bf322",
   "metadata": {
    "papermill": {
     "duration": 0.01318,
     "end_time": "2023-07-27T18:55:42.183532",
     "exception": false,
     "start_time": "2023-07-27T18:55:42.170352",
     "status": "completed"
    },
    "tags": []
   },
   "outputs": [],
   "source": []
  },
  {
   "cell_type": "code",
   "execution_count": null,
   "id": "382dfb87",
   "metadata": {
    "papermill": {
     "duration": 0.01271,
     "end_time": "2023-07-27T18:55:42.209068",
     "exception": false,
     "start_time": "2023-07-27T18:55:42.196358",
     "status": "completed"
    },
    "tags": []
   },
   "outputs": [],
   "source": []
  },
  {
   "cell_type": "code",
   "execution_count": null,
   "id": "9971730f",
   "metadata": {
    "papermill": {
     "duration": 0.012143,
     "end_time": "2023-07-27T18:55:42.233376",
     "exception": false,
     "start_time": "2023-07-27T18:55:42.221233",
     "status": "completed"
    },
    "tags": []
   },
   "outputs": [],
   "source": []
  },
  {
   "cell_type": "code",
   "execution_count": null,
   "id": "e346b291",
   "metadata": {
    "papermill": {
     "duration": 0.015831,
     "end_time": "2023-07-27T18:55:42.261356",
     "exception": false,
     "start_time": "2023-07-27T18:55:42.245525",
     "status": "completed"
    },
    "tags": []
   },
   "outputs": [],
   "source": []
  },
  {
   "cell_type": "code",
   "execution_count": null,
   "id": "b750cd33",
   "metadata": {
    "papermill": {
     "duration": 0.012036,
     "end_time": "2023-07-27T18:55:42.285711",
     "exception": false,
     "start_time": "2023-07-27T18:55:42.273675",
     "status": "completed"
    },
    "tags": []
   },
   "outputs": [],
   "source": []
  },
  {
   "cell_type": "code",
   "execution_count": null,
   "id": "c0aa5ec7",
   "metadata": {
    "papermill": {
     "duration": 0.011882,
     "end_time": "2023-07-27T18:55:42.310061",
     "exception": false,
     "start_time": "2023-07-27T18:55:42.298179",
     "status": "completed"
    },
    "tags": []
   },
   "outputs": [],
   "source": []
  },
  {
   "cell_type": "code",
   "execution_count": null,
   "id": "a6fc50ca",
   "metadata": {
    "papermill": {
     "duration": 0.013387,
     "end_time": "2023-07-27T18:55:42.335670",
     "exception": false,
     "start_time": "2023-07-27T18:55:42.322283",
     "status": "completed"
    },
    "tags": []
   },
   "outputs": [],
   "source": []
  },
  {
   "cell_type": "code",
   "execution_count": null,
   "id": "81c7d790",
   "metadata": {
    "papermill": {
     "duration": 0.012495,
     "end_time": "2023-07-27T18:55:42.360428",
     "exception": false,
     "start_time": "2023-07-27T18:55:42.347933",
     "status": "completed"
    },
    "tags": []
   },
   "outputs": [],
   "source": []
  },
  {
   "cell_type": "code",
   "execution_count": null,
   "id": "108e4fdf",
   "metadata": {
    "papermill": {
     "duration": 0.012744,
     "end_time": "2023-07-27T18:55:42.386081",
     "exception": false,
     "start_time": "2023-07-27T18:55:42.373337",
     "status": "completed"
    },
    "tags": []
   },
   "outputs": [],
   "source": []
  },
  {
   "cell_type": "code",
   "execution_count": null,
   "id": "63a57bb7",
   "metadata": {
    "papermill": {
     "duration": 0.013058,
     "end_time": "2023-07-27T18:55:42.412247",
     "exception": false,
     "start_time": "2023-07-27T18:55:42.399189",
     "status": "completed"
    },
    "tags": []
   },
   "outputs": [],
   "source": []
  },
  {
   "cell_type": "code",
   "execution_count": null,
   "id": "7c8f7ca1",
   "metadata": {
    "papermill": {
     "duration": 0.012584,
     "end_time": "2023-07-27T18:55:42.437870",
     "exception": false,
     "start_time": "2023-07-27T18:55:42.425286",
     "status": "completed"
    },
    "tags": []
   },
   "outputs": [],
   "source": []
  }
 ],
 "metadata": {
  "kernelspec": {
   "display_name": "Python 3",
   "language": "python",
   "name": "python3"
  },
  "language_info": {
   "codemirror_mode": {
    "name": "ipython",
    "version": 3
   },
   "file_extension": ".py",
   "mimetype": "text/x-python",
   "name": "python",
   "nbconvert_exporter": "python",
   "pygments_lexer": "ipython3",
   "version": "3.10.12"
  },
  "papermill": {
   "default_parameters": {},
   "duration": 196.065543,
   "end_time": "2023-07-27T18:55:45.809561",
   "environment_variables": {},
   "exception": null,
   "input_path": "__notebook__.ipynb",
   "output_path": "__notebook__.ipynb",
   "parameters": {},
   "start_time": "2023-07-27T18:52:29.744018",
   "version": "2.4.0"
  }
 },
 "nbformat": 4,
 "nbformat_minor": 5
}
