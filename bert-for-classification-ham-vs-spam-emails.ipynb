{
 "cells": [
  {
   "cell_type": "code",
   "execution_count": 1,
   "id": "717739c9",
   "metadata": {
    "_cell_guid": "b1076dfc-b9ad-4769-8c92-a6c4dae69d19",
    "_uuid": "8f2839f25d086af736a60e9eeb907d3b93b6e0e5",
    "execution": {
     "iopub.execute_input": "2023-07-15T13:42:46.972842Z",
     "iopub.status.busy": "2023-07-15T13:42:46.972396Z",
     "iopub.status.idle": "2023-07-15T13:42:46.989705Z",
     "shell.execute_reply": "2023-07-15T13:42:46.988441Z"
    },
    "papermill": {
     "duration": 0.03217,
     "end_time": "2023-07-15T13:42:46.991958",
     "exception": false,
     "start_time": "2023-07-15T13:42:46.959788",
     "status": "completed"
    },
    "tags": []
   },
   "outputs": [
    {
     "name": "stdout",
     "output_type": "stream",
     "text": [
      "/kaggle/input/sms-spam-collection-dataset/spam.csv\n"
     ]
    }
   ],
   "source": [
    "# This Python 3 environment comes with many helpful analytics libraries installed\n",
    "# It is defined by the kaggle/python Docker image: https://github.com/kaggle/docker-python\n",
    "# For example, here's several helpful packages to load\n",
    "\n",
    "import numpy as np # linear algebra\n",
    "import pandas as pd # data processing, CSV file I/O (e.g. pd.read_csv)\n",
    "\n",
    "# Input data files are available in the read-only \"../input/\" directory\n",
    "# For example, running this (by clicking run or pressing Shift+Enter) will list all files under the input directory\n",
    "\n",
    "import os\n",
    "for dirname, _, filenames in os.walk('/kaggle/input'):\n",
    "    for filename in filenames:\n",
    "        print(os.path.join(dirname, filename))\n",
    "\n",
    "# You can write up to 20GB to the current directory (/kaggle/working/) that gets preserved as output when you create a version using \"Save & Run All\" \n",
    "# You can also write temporary files to /kaggle/temp/, but they won't be saved outside of the current session"
   ]
  },
  {
   "cell_type": "markdown",
   "id": "11dbc365",
   "metadata": {
    "papermill": {
     "duration": 0.010007,
     "end_time": "2023-07-15T13:42:47.012537",
     "exception": false,
     "start_time": "2023-07-15T13:42:47.002530",
     "status": "completed"
    },
    "tags": []
   },
   "source": [
    "# What is BERT\n",
    "BERT (Bidirectional Encoder Representations from Transformers) is a highly influential natural language processing (NLP) model that was introduced by Google in 2018. It represents a breakthrough in pre-training techniques for language understanding tasks. BERT belongs to the transformer-based models family, which have gained significant popularity due to their ability to capture context and long-range dependencies in text.\n",
    "\n",
    "What sets BERT apart from previous models is its use of bidirectional training. Unlike traditional models that process text in a left-to-right or right-to-left manner, BERT considers both directions simultaneously during training. This bidirectional approach allows BERT to better understand the context and meaning of words by considering the surrounding words and sentences.\n",
    "\n",
    "BERT is pre-trained on a large corpus of unlabeled text data, such as Wikipedia articles, where it learns to predict missing words in sentences. This pre-training enables the model to capture general language knowledge and context. After pre-training, BERT is fine-tuned on specific downstream tasks, such as text classification, named entity recognition, and question answering.\n",
    "\n",
    "One of the key advantages of BERT is its ability to handle a wide range of NLP tasks with minimal task-specific modifications. By fine-tuning the pre-trained BERT model on a specific task, it can achieve state-of-the-art performance on various benchmarks, surpassing many traditional approaches and specialized models.\n",
    "\n",
    "BERT has had a profound impact on the field of NLP, leading to advancements in areas such as sentiment analysis, language translation, information retrieval, and more. Its success has also inspired the development of subsequent models, such as GPT-3, RoBERTa, and ELECTRA, further pushing the boundaries of natural language understanding and generation."
   ]
  },
  {
   "cell_type": "code",
   "execution_count": 2,
   "id": "c65fb948",
   "metadata": {
    "execution": {
     "iopub.execute_input": "2023-07-15T13:42:47.034982Z",
     "iopub.status.busy": "2023-07-15T13:42:47.034702Z",
     "iopub.status.idle": "2023-07-15T13:43:04.111805Z",
     "shell.execute_reply": "2023-07-15T13:43:04.110674Z"
    },
    "papermill": {
     "duration": 17.091672,
     "end_time": "2023-07-15T13:43:04.114866",
     "exception": false,
     "start_time": "2023-07-15T13:42:47.023194",
     "status": "completed"
    },
    "tags": []
   },
   "outputs": [
    {
     "name": "stderr",
     "output_type": "stream",
     "text": [
      "/opt/conda/lib/python3.10/site-packages/scipy/__init__.py:146: UserWarning: A NumPy version >=1.16.5 and <1.23.0 is required for this version of SciPy (detected version 1.23.5\n",
      "  warnings.warn(f\"A NumPy version >={np_minversion} and <{np_maxversion}\"\n",
      "/opt/conda/lib/python3.10/site-packages/tensorflow_io/python/ops/__init__.py:98: UserWarning: unable to load libtensorflow_io_plugins.so: unable to open file: libtensorflow_io_plugins.so, from paths: ['/opt/conda/lib/python3.10/site-packages/tensorflow_io/python/ops/libtensorflow_io_plugins.so']\n",
      "caused by: ['/opt/conda/lib/python3.10/site-packages/tensorflow_io/python/ops/libtensorflow_io_plugins.so: undefined symbol: _ZN3tsl6StatusC1EN10tensorflow5error4CodeESt17basic_string_viewIcSt11char_traitsIcEENS_14SourceLocationE']\n",
      "  warnings.warn(f\"unable to load libtensorflow_io_plugins.so: {e}\")\n",
      "/opt/conda/lib/python3.10/site-packages/tensorflow_io/python/ops/__init__.py:104: UserWarning: file system plugins are not loaded: unable to open file: libtensorflow_io.so, from paths: ['/opt/conda/lib/python3.10/site-packages/tensorflow_io/python/ops/libtensorflow_io.so']\n",
      "caused by: ['/opt/conda/lib/python3.10/site-packages/tensorflow_io/python/ops/libtensorflow_io.so: undefined symbol: _ZTVN10tensorflow13GcsFileSystemE']\n",
      "  warnings.warn(f\"file system plugins are not loaded: {e}\")\n"
     ]
    }
   ],
   "source": [
    "import pandas as pd #for manipulating dataframe\n",
    "import spacy  #for preprocessing tusk using pretrained nlp models\n",
    "import numpy as np \n",
    "import tensorflow_hub as hub #for processing text\n",
    "import tensorflow_text as text #for preprocessing the text\n",
    "from sklearn.model_selection import train_test_split #splitting the data into train data and test data\n",
    "from sklearn.metrics import classification_report #for model evaluation \n",
    "import tensorflow as tf"
   ]
  },
  {
   "cell_type": "markdown",
   "id": "b8a81e03",
   "metadata": {
    "papermill": {
     "duration": 0.010264,
     "end_time": "2023-07-15T13:43:04.137008",
     "exception": false,
     "start_time": "2023-07-15T13:43:04.126744",
     "status": "completed"
    },
    "tags": []
   },
   "source": [
    "To begin with let's take an overview of how our data look like "
   ]
  },
  {
   "cell_type": "code",
   "execution_count": 3,
   "id": "7a80d881",
   "metadata": {
    "execution": {
     "iopub.execute_input": "2023-07-15T13:43:04.159657Z",
     "iopub.status.busy": "2023-07-15T13:43:04.158996Z",
     "iopub.status.idle": "2023-07-15T13:43:04.188003Z",
     "shell.execute_reply": "2023-07-15T13:43:04.187129Z"
    },
    "papermill": {
     "duration": 0.042754,
     "end_time": "2023-07-15T13:43:04.190360",
     "exception": false,
     "start_time": "2023-07-15T13:43:04.147606",
     "status": "completed"
    },
    "tags": []
   },
   "outputs": [],
   "source": [
    "data=pd.read_csv(\"/kaggle/input/sms-spam-collection-dataset/spam.csv\",encoding='latin-1')"
   ]
  },
  {
   "cell_type": "code",
   "execution_count": 4,
   "id": "88d0819f",
   "metadata": {
    "execution": {
     "iopub.execute_input": "2023-07-15T13:43:04.212500Z",
     "iopub.status.busy": "2023-07-15T13:43:04.212167Z",
     "iopub.status.idle": "2023-07-15T13:43:04.229800Z",
     "shell.execute_reply": "2023-07-15T13:43:04.228666Z"
    },
    "papermill": {
     "duration": 0.031521,
     "end_time": "2023-07-15T13:43:04.232325",
     "exception": false,
     "start_time": "2023-07-15T13:43:04.200804",
     "status": "completed"
    },
    "tags": []
   },
   "outputs": [
    {
     "data": {
      "text/plain": [
       "ham     4825\n",
       "spam     747\n",
       "Name: v1, dtype: int64"
      ]
     },
     "execution_count": 4,
     "metadata": {},
     "output_type": "execute_result"
    }
   ],
   "source": [
    "data.v1.value_counts()"
   ]
  },
  {
   "cell_type": "code",
   "execution_count": 5,
   "id": "cb378062",
   "metadata": {
    "execution": {
     "iopub.execute_input": "2023-07-15T13:43:04.253943Z",
     "iopub.status.busy": "2023-07-15T13:43:04.253674Z",
     "iopub.status.idle": "2023-07-15T13:43:04.262858Z",
     "shell.execute_reply": "2023-07-15T13:43:04.261948Z"
    },
    "papermill": {
     "duration": 0.022308,
     "end_time": "2023-07-15T13:43:04.264952",
     "exception": false,
     "start_time": "2023-07-15T13:43:04.242644",
     "status": "completed"
    },
    "tags": []
   },
   "outputs": [],
   "source": [
    "data=data.drop([\"Unnamed: 2\",\"Unnamed: 3\",\"Unnamed: 4\"],axis=1)"
   ]
  },
  {
   "cell_type": "markdown",
   "id": "dc65d31c",
   "metadata": {
    "papermill": {
     "duration": 0.010552,
     "end_time": "2023-07-15T13:43:04.286590",
     "exception": false,
     "start_time": "2023-07-15T13:43:04.276038",
     "status": "completed"
    },
    "tags": []
   },
   "source": [
    "As we can see our data is not balanced in term of category this issue may affect the performance of the model later so we need to construct a new dataframe by taking sample of 747 row from each category "
   ]
  },
  {
   "cell_type": "code",
   "execution_count": 6,
   "id": "33f05e60",
   "metadata": {
    "execution": {
     "iopub.execute_input": "2023-07-15T13:43:04.309297Z",
     "iopub.status.busy": "2023-07-15T13:43:04.307941Z",
     "iopub.status.idle": "2023-07-15T13:43:04.317504Z",
     "shell.execute_reply": "2023-07-15T13:43:04.316603Z"
    },
    "papermill": {
     "duration": 0.022903,
     "end_time": "2023-07-15T13:43:04.319722",
     "exception": false,
     "start_time": "2023-07-15T13:43:04.296819",
     "status": "completed"
    },
    "tags": []
   },
   "outputs": [],
   "source": [
    "df_spam=data[data[\"v1\"]==\"spam\"].sample(747)\n",
    "df_ham=data[data[\"v1\"]==\"ham\"].sample(747,random_state=2022)"
   ]
  },
  {
   "cell_type": "code",
   "execution_count": 7,
   "id": "7e0a6a65",
   "metadata": {
    "execution": {
     "iopub.execute_input": "2023-07-15T13:43:04.341526Z",
     "iopub.status.busy": "2023-07-15T13:43:04.341260Z",
     "iopub.status.idle": "2023-07-15T13:43:04.346474Z",
     "shell.execute_reply": "2023-07-15T13:43:04.345490Z"
    },
    "papermill": {
     "duration": 0.01856,
     "end_time": "2023-07-15T13:43:04.348528",
     "exception": false,
     "start_time": "2023-07-15T13:43:04.329968",
     "status": "completed"
    },
    "tags": []
   },
   "outputs": [],
   "source": [
    "final_data=pd.concat([df_spam,df_ham])"
   ]
  },
  {
   "cell_type": "code",
   "execution_count": 8,
   "id": "23de7861",
   "metadata": {
    "execution": {
     "iopub.execute_input": "2023-07-15T13:43:04.370444Z",
     "iopub.status.busy": "2023-07-15T13:43:04.370186Z",
     "iopub.status.idle": "2023-07-15T13:43:04.382409Z",
     "shell.execute_reply": "2023-07-15T13:43:04.381341Z"
    },
    "papermill": {
     "duration": 0.025985,
     "end_time": "2023-07-15T13:43:04.384799",
     "exception": false,
     "start_time": "2023-07-15T13:43:04.358814",
     "status": "completed"
    },
    "tags": []
   },
   "outputs": [
    {
     "data": {
      "text/html": [
       "<div>\n",
       "<style scoped>\n",
       "    .dataframe tbody tr th:only-of-type {\n",
       "        vertical-align: middle;\n",
       "    }\n",
       "\n",
       "    .dataframe tbody tr th {\n",
       "        vertical-align: top;\n",
       "    }\n",
       "\n",
       "    .dataframe thead th {\n",
       "        text-align: right;\n",
       "    }\n",
       "</style>\n",
       "<table border=\"1\" class=\"dataframe\">\n",
       "  <thead>\n",
       "    <tr style=\"text-align: right;\">\n",
       "      <th></th>\n",
       "      <th>v1</th>\n",
       "      <th>v2</th>\n",
       "    </tr>\n",
       "  </thead>\n",
       "  <tbody>\n",
       "    <tr>\n",
       "      <th>1224</th>\n",
       "      <td>spam</td>\n",
       "      <td>You are a winner U have been specially selecte...</td>\n",
       "    </tr>\n",
       "    <tr>\n",
       "      <th>1652</th>\n",
       "      <td>spam</td>\n",
       "      <td>For ur chance to win a å£250 cash every wk TXT...</td>\n",
       "    </tr>\n",
       "    <tr>\n",
       "      <th>712</th>\n",
       "      <td>spam</td>\n",
       "      <td>08714712388 between 10am-7pm Cost 10p</td>\n",
       "    </tr>\n",
       "    <tr>\n",
       "      <th>2308</th>\n",
       "      <td>spam</td>\n",
       "      <td>Moby Pub Quiz.Win a å£100 High Street prize if...</td>\n",
       "    </tr>\n",
       "    <tr>\n",
       "      <th>2363</th>\n",
       "      <td>spam</td>\n",
       "      <td>Fantasy Football is back on your TV. Go to Sky...</td>\n",
       "    </tr>\n",
       "  </tbody>\n",
       "</table>\n",
       "</div>"
      ],
      "text/plain": [
       "        v1                                                 v2\n",
       "1224  spam  You are a winner U have been specially selecte...\n",
       "1652  spam  For ur chance to win a å£250 cash every wk TXT...\n",
       "712   spam              08714712388 between 10am-7pm Cost 10p\n",
       "2308  spam  Moby Pub Quiz.Win a å£100 High Street prize if...\n",
       "2363  spam  Fantasy Football is back on your TV. Go to Sky..."
      ]
     },
     "execution_count": 8,
     "metadata": {},
     "output_type": "execute_result"
    }
   ],
   "source": [
    "final_data.head()"
   ]
  },
  {
   "cell_type": "markdown",
   "id": "e828017c",
   "metadata": {
    "papermill": {
     "duration": 0.010766,
     "end_time": "2023-07-15T13:43:04.406756",
     "exception": false,
     "start_time": "2023-07-15T13:43:04.395990",
     "status": "completed"
    },
    "tags": []
   },
   "source": [
    "As you noticed v1 is categorical feautue so we need to convert it into numerical one "
   ]
  },
  {
   "cell_type": "code",
   "execution_count": 9,
   "id": "fe236905",
   "metadata": {
    "execution": {
     "iopub.execute_input": "2023-07-15T13:43:04.428685Z",
     "iopub.status.busy": "2023-07-15T13:43:04.428420Z",
     "iopub.status.idle": "2023-07-15T13:43:04.435628Z",
     "shell.execute_reply": "2023-07-15T13:43:04.434764Z"
    },
    "papermill": {
     "duration": 0.02044,
     "end_time": "2023-07-15T13:43:04.437677",
     "exception": false,
     "start_time": "2023-07-15T13:43:04.417237",
     "status": "completed"
    },
    "tags": []
   },
   "outputs": [],
   "source": [
    "final_data[\"v1\"]=final_data[\"v1\"].apply(lambda x:1 if x==\"spam\" else 0)"
   ]
  },
  {
   "cell_type": "code",
   "execution_count": 10,
   "id": "44d9019c",
   "metadata": {
    "execution": {
     "iopub.execute_input": "2023-07-15T13:43:04.459901Z",
     "iopub.status.busy": "2023-07-15T13:43:04.459628Z",
     "iopub.status.idle": "2023-07-15T13:43:04.473440Z",
     "shell.execute_reply": "2023-07-15T13:43:04.472316Z"
    },
    "papermill": {
     "duration": 0.027299,
     "end_time": "2023-07-15T13:43:04.475652",
     "exception": false,
     "start_time": "2023-07-15T13:43:04.448353",
     "status": "completed"
    },
    "tags": []
   },
   "outputs": [
    {
     "data": {
      "text/html": [
       "<div>\n",
       "<style scoped>\n",
       "    .dataframe tbody tr th:only-of-type {\n",
       "        vertical-align: middle;\n",
       "    }\n",
       "\n",
       "    .dataframe tbody tr th {\n",
       "        vertical-align: top;\n",
       "    }\n",
       "\n",
       "    .dataframe thead th {\n",
       "        text-align: right;\n",
       "    }\n",
       "</style>\n",
       "<table border=\"1\" class=\"dataframe\">\n",
       "  <thead>\n",
       "    <tr style=\"text-align: right;\">\n",
       "      <th></th>\n",
       "      <th>v1</th>\n",
       "      <th>v2</th>\n",
       "    </tr>\n",
       "  </thead>\n",
       "  <tbody>\n",
       "    <tr>\n",
       "      <th>1224</th>\n",
       "      <td>1</td>\n",
       "      <td>You are a winner U have been specially selecte...</td>\n",
       "    </tr>\n",
       "    <tr>\n",
       "      <th>1652</th>\n",
       "      <td>1</td>\n",
       "      <td>For ur chance to win a å£250 cash every wk TXT...</td>\n",
       "    </tr>\n",
       "    <tr>\n",
       "      <th>712</th>\n",
       "      <td>1</td>\n",
       "      <td>08714712388 between 10am-7pm Cost 10p</td>\n",
       "    </tr>\n",
       "    <tr>\n",
       "      <th>2308</th>\n",
       "      <td>1</td>\n",
       "      <td>Moby Pub Quiz.Win a å£100 High Street prize if...</td>\n",
       "    </tr>\n",
       "    <tr>\n",
       "      <th>2363</th>\n",
       "      <td>1</td>\n",
       "      <td>Fantasy Football is back on your TV. Go to Sky...</td>\n",
       "    </tr>\n",
       "    <tr>\n",
       "      <th>...</th>\n",
       "      <td>...</td>\n",
       "      <td>...</td>\n",
       "    </tr>\n",
       "    <tr>\n",
       "      <th>303</th>\n",
       "      <td>0</td>\n",
       "      <td>He is a womdarfull actor</td>\n",
       "    </tr>\n",
       "    <tr>\n",
       "      <th>2381</th>\n",
       "      <td>0</td>\n",
       "      <td>Best line said in Love: . \\I will wait till th...</td>\n",
       "    </tr>\n",
       "    <tr>\n",
       "      <th>4085</th>\n",
       "      <td>0</td>\n",
       "      <td>Lemme know when you're here</td>\n",
       "    </tr>\n",
       "    <tr>\n",
       "      <th>5318</th>\n",
       "      <td>0</td>\n",
       "      <td>Good morning, my Love ... I go to sleep now an...</td>\n",
       "    </tr>\n",
       "    <tr>\n",
       "      <th>438</th>\n",
       "      <td>0</td>\n",
       "      <td>Hi hope u get this txt~journey hasnt been gd,n...</td>\n",
       "    </tr>\n",
       "  </tbody>\n",
       "</table>\n",
       "<p>1494 rows × 2 columns</p>\n",
       "</div>"
      ],
      "text/plain": [
       "      v1                                                 v2\n",
       "1224   1  You are a winner U have been specially selecte...\n",
       "1652   1  For ur chance to win a å£250 cash every wk TXT...\n",
       "712    1              08714712388 between 10am-7pm Cost 10p\n",
       "2308   1  Moby Pub Quiz.Win a å£100 High Street prize if...\n",
       "2363   1  Fantasy Football is back on your TV. Go to Sky...\n",
       "...   ..                                                ...\n",
       "303    0                           He is a womdarfull actor\n",
       "2381   0  Best line said in Love: . \\I will wait till th...\n",
       "4085   0                        Lemme know when you're here\n",
       "5318   0  Good morning, my Love ... I go to sleep now an...\n",
       "438    0  Hi hope u get this txt~journey hasnt been gd,n...\n",
       "\n",
       "[1494 rows x 2 columns]"
      ]
     },
     "execution_count": 10,
     "metadata": {},
     "output_type": "execute_result"
    }
   ],
   "source": [
    "final_data"
   ]
  },
  {
   "cell_type": "code",
   "execution_count": 11,
   "id": "e99f504b",
   "metadata": {
    "execution": {
     "iopub.execute_input": "2023-07-15T13:43:04.499674Z",
     "iopub.status.busy": "2023-07-15T13:43:04.499373Z",
     "iopub.status.idle": "2023-07-15T13:43:05.699596Z",
     "shell.execute_reply": "2023-07-15T13:43:05.698493Z"
    },
    "papermill": {
     "duration": 1.215024,
     "end_time": "2023-07-15T13:43:05.702400",
     "exception": false,
     "start_time": "2023-07-15T13:43:04.487376",
     "status": "completed"
    },
    "tags": []
   },
   "outputs": [],
   "source": [
    "nlp=spacy.load(\"en_core_web_sm\")"
   ]
  },
  {
   "cell_type": "markdown",
   "id": "13e1387c",
   "metadata": {
    "papermill": {
     "duration": 0.010885,
     "end_time": "2023-07-15T13:43:05.725555",
     "exception": false,
     "start_time": "2023-07-15T13:43:05.714670",
     "status": "completed"
    },
    "tags": []
   },
   "source": [
    "Stop word like \"always,would,every etc...\" could decrease the performance of the model so simply we romve them from each text row \n"
   ]
  },
  {
   "cell_type": "code",
   "execution_count": 12,
   "id": "25d5a0c2",
   "metadata": {
    "execution": {
     "iopub.execute_input": "2023-07-15T13:43:05.749416Z",
     "iopub.status.busy": "2023-07-15T13:43:05.749102Z",
     "iopub.status.idle": "2023-07-15T13:43:05.754697Z",
     "shell.execute_reply": "2023-07-15T13:43:05.753769Z"
    },
    "papermill": {
     "duration": 0.01969,
     "end_time": "2023-07-15T13:43:05.756685",
     "exception": false,
     "start_time": "2023-07-15T13:43:05.736995",
     "status": "completed"
    },
    "tags": []
   },
   "outputs": [],
   "source": [
    "def remove_stop_words(text):\n",
    "    non_stop_words=list()\n",
    "    docs=nlp(text)\n",
    "    for token in docs:\n",
    "        if token.is_stop or token.is_punct:\n",
    "            continue\n",
    "        else:\n",
    "            non_stop_words.append(token.text)\n",
    "    return \" \".join(non_stop_words)"
   ]
  },
  {
   "cell_type": "code",
   "execution_count": 13,
   "id": "604027a3",
   "metadata": {
    "execution": {
     "iopub.execute_input": "2023-07-15T13:43:05.781911Z",
     "iopub.status.busy": "2023-07-15T13:43:05.780376Z",
     "iopub.status.idle": "2023-07-15T13:43:20.097320Z",
     "shell.execute_reply": "2023-07-15T13:43:20.096064Z"
    },
    "papermill": {
     "duration": 14.332322,
     "end_time": "2023-07-15T13:43:20.100557",
     "exception": false,
     "start_time": "2023-07-15T13:43:05.768235",
     "status": "completed"
    },
    "tags": []
   },
   "outputs": [],
   "source": [
    "final_data[\"v2\"]=final_data[\"v2\"].apply(remove_stop_words)"
   ]
  },
  {
   "cell_type": "markdown",
   "id": "d090154b",
   "metadata": {
    "papermill": {
     "duration": 0.012019,
     "end_time": "2023-07-15T13:43:20.125177",
     "exception": false,
     "start_time": "2023-07-15T13:43:20.113158",
     "status": "completed"
    },
    "tags": []
   },
   "source": [
    "Splitting the data into train and test data"
   ]
  },
  {
   "cell_type": "code",
   "execution_count": 14,
   "id": "7c59abe5",
   "metadata": {
    "execution": {
     "iopub.execute_input": "2023-07-15T13:43:20.148567Z",
     "iopub.status.busy": "2023-07-15T13:43:20.148241Z",
     "iopub.status.idle": "2023-07-15T13:43:20.154963Z",
     "shell.execute_reply": "2023-07-15T13:43:20.153997Z"
    },
    "papermill": {
     "duration": 0.020586,
     "end_time": "2023-07-15T13:43:20.156951",
     "exception": false,
     "start_time": "2023-07-15T13:43:20.136365",
     "status": "completed"
    },
    "tags": []
   },
   "outputs": [],
   "source": [
    "X_train,X_test,y_train,y_test=train_test_split(final_data.v2,final_data.v1,random_state=1012)"
   ]
  },
  {
   "cell_type": "code",
   "execution_count": 15,
   "id": "5ad0fc67",
   "metadata": {
    "execution": {
     "iopub.execute_input": "2023-07-15T13:43:20.180036Z",
     "iopub.status.busy": "2023-07-15T13:43:20.179769Z",
     "iopub.status.idle": "2023-07-15T13:43:47.290077Z",
     "shell.execute_reply": "2023-07-15T13:43:47.289025Z"
    },
    "papermill": {
     "duration": 27.124897,
     "end_time": "2023-07-15T13:43:47.292799",
     "exception": false,
     "start_time": "2023-07-15T13:43:20.167902",
     "status": "completed"
    },
    "tags": []
   },
   "outputs": [],
   "source": [
    "bert_preprocess = hub.KerasLayer(\"https://tfhub.dev/tensorflow/bert_en_uncased_preprocess/3\")\n",
    "bert_encoder = hub.KerasLayer(\"https://tfhub.dev/tensorflow/bert_en_uncased_L-12_H-768_A-12/4\")"
   ]
  },
  {
   "cell_type": "markdown",
   "id": "16603c2f",
   "metadata": {
    "papermill": {
     "duration": 0.010692,
     "end_time": "2023-07-15T13:43:47.315033",
     "exception": false,
     "start_time": "2023-07-15T13:43:47.304341",
     "status": "completed"
    },
    "tags": []
   },
   "source": [
    "Building a function in order to process the text in v2 feature and convert them to vectors"
   ]
  },
  {
   "cell_type": "code",
   "execution_count": 16,
   "id": "db9e1394",
   "metadata": {
    "execution": {
     "iopub.execute_input": "2023-07-15T13:43:47.338930Z",
     "iopub.status.busy": "2023-07-15T13:43:47.338614Z",
     "iopub.status.idle": "2023-07-15T13:43:47.343125Z",
     "shell.execute_reply": "2023-07-15T13:43:47.342156Z"
    },
    "papermill": {
     "duration": 0.018875,
     "end_time": "2023-07-15T13:43:47.345337",
     "exception": false,
     "start_time": "2023-07-15T13:43:47.326462",
     "status": "completed"
    },
    "tags": []
   },
   "outputs": [],
   "source": [
    "def get_sentence_embedding(text):\n",
    "    preprocessed_text=bert_preprocess(text)\n",
    "    return bert_encoder(preprocessed_text)[\"pooled_output\"]"
   ]
  },
  {
   "cell_type": "markdown",
   "id": "58b05c04",
   "metadata": {
    "papermill": {
     "duration": 0.010772,
     "end_time": "2023-07-15T13:43:47.366768",
     "exception": false,
     "start_time": "2023-07-15T13:43:47.355996",
     "status": "completed"
    },
    "tags": []
   },
   "source": [
    "building a simple neural net"
   ]
  },
  {
   "cell_type": "code",
   "execution_count": 17,
   "id": "edd8b047",
   "metadata": {
    "execution": {
     "iopub.execute_input": "2023-07-15T13:43:47.389625Z",
     "iopub.status.busy": "2023-07-15T13:43:47.389335Z",
     "iopub.status.idle": "2023-07-15T13:43:48.230953Z",
     "shell.execute_reply": "2023-07-15T13:43:48.229981Z"
    },
    "papermill": {
     "duration": 0.855737,
     "end_time": "2023-07-15T13:43:48.233415",
     "exception": false,
     "start_time": "2023-07-15T13:43:47.377678",
     "status": "completed"
    },
    "tags": []
   },
   "outputs": [],
   "source": [
    "# Bert layers\n",
    "text_input = tf.keras.layers.Input(shape=(), dtype=tf.string, name='text')\n",
    "preprocessed_text = bert_preprocess(text_input)\n",
    "outputs = bert_encoder(preprocessed_text)\n",
    "\n",
    "# Neural network layers\n",
    "l = tf.keras.layers.Dropout(0.1, name=\"dropout\")(outputs['pooled_output'])\n",
    "l = tf.keras.layers.Dense(1, activation='sigmoid', name=\"output\")(l)\n",
    "\n",
    "# Use inputs and outputs to construct a final model\n",
    "model = tf.keras.Model(inputs=[text_input], outputs = [l])"
   ]
  },
  {
   "cell_type": "code",
   "execution_count": 18,
   "id": "8dad527e",
   "metadata": {
    "execution": {
     "iopub.execute_input": "2023-07-15T13:43:48.257081Z",
     "iopub.status.busy": "2023-07-15T13:43:48.256788Z",
     "iopub.status.idle": "2023-07-15T13:43:48.282915Z",
     "shell.execute_reply": "2023-07-15T13:43:48.282041Z"
    },
    "papermill": {
     "duration": 0.039871,
     "end_time": "2023-07-15T13:43:48.284783",
     "exception": false,
     "start_time": "2023-07-15T13:43:48.244912",
     "status": "completed"
    },
    "tags": []
   },
   "outputs": [],
   "source": [
    "METRICS = [\n",
    "      tf.keras.metrics.BinaryAccuracy(name='accuracy'),\n",
    "      tf.keras.metrics.Precision(name='precision'),\n",
    "      tf.keras.metrics.Recall(name='recall')\n",
    "]\n",
    "\n",
    "model.compile(optimizer='adam',\n",
    "              loss='binary_crossentropy',\n",
    "              metrics=METRICS)"
   ]
  },
  {
   "cell_type": "code",
   "execution_count": 19,
   "id": "acf7cad3",
   "metadata": {
    "execution": {
     "iopub.execute_input": "2023-07-15T13:43:48.308542Z",
     "iopub.status.busy": "2023-07-15T13:43:48.307636Z",
     "iopub.status.idle": "2023-07-15T13:45:57.817107Z",
     "shell.execute_reply": "2023-07-15T13:45:57.816076Z"
    },
    "papermill": {
     "duration": 129.523488,
     "end_time": "2023-07-15T13:45:57.819401",
     "exception": false,
     "start_time": "2023-07-15T13:43:48.295913",
     "status": "completed"
    },
    "tags": []
   },
   "outputs": [
    {
     "name": "stdout",
     "output_type": "stream",
     "text": [
      "Epoch 1/10\n",
      "35/35 [==============================] - 25s 318ms/step - loss: 0.6634 - accuracy: 0.5786 - precision: 0.5789 - recall: 0.6095\n",
      "Epoch 2/10\n",
      "35/35 [==============================] - 11s 321ms/step - loss: 0.5334 - accuracy: 0.7277 - precision: 0.7360 - recall: 0.7191\n",
      "Epoch 3/10\n",
      "35/35 [==============================] - 12s 330ms/step - loss: 0.4691 - accuracy: 0.7830 - precision: 0.7869 - recall: 0.7827\n",
      "Epoch 4/10\n",
      "35/35 [==============================] - 11s 324ms/step - loss: 0.4277 - accuracy: 0.8134 - precision: 0.8051 - recall: 0.8322\n",
      "Epoch 5/10\n",
      "35/35 [==============================] - 11s 327ms/step - loss: 0.3995 - accuracy: 0.8357 - precision: 0.8448 - recall: 0.8269\n",
      "Epoch 6/10\n",
      "35/35 [==============================] - 12s 335ms/step - loss: 0.3794 - accuracy: 0.8464 - precision: 0.8397 - recall: 0.8604\n",
      "Epoch 7/10\n",
      "35/35 [==============================] - 12s 334ms/step - loss: 0.3575 - accuracy: 0.8580 - precision: 0.8589 - recall: 0.8604\n",
      "Epoch 8/10\n",
      "35/35 [==============================] - 12s 336ms/step - loss: 0.3463 - accuracy: 0.8723 - precision: 0.8838 - recall: 0.8604\n",
      "Epoch 9/10\n",
      "35/35 [==============================] - 12s 344ms/step - loss: 0.3301 - accuracy: 0.8679 - precision: 0.8746 - recall: 0.8622\n",
      "Epoch 10/10\n",
      "35/35 [==============================] - 12s 343ms/step - loss: 0.3252 - accuracy: 0.8795 - precision: 0.8787 - recall: 0.8834\n"
     ]
    },
    {
     "data": {
      "text/plain": [
       "<keras.callbacks.History at 0x7e0a0af07df0>"
      ]
     },
     "execution_count": 19,
     "metadata": {},
     "output_type": "execute_result"
    }
   ],
   "source": [
    "model.fit(X_train,y_train,epochs=10)"
   ]
  },
  {
   "cell_type": "code",
   "execution_count": 20,
   "id": "71fab79c",
   "metadata": {
    "execution": {
     "iopub.execute_input": "2023-07-15T13:45:57.907287Z",
     "iopub.status.busy": "2023-07-15T13:45:57.905673Z",
     "iopub.status.idle": "2023-07-15T13:46:02.959706Z",
     "shell.execute_reply": "2023-07-15T13:46:02.958561Z"
    },
    "papermill": {
     "duration": 5.099164,
     "end_time": "2023-07-15T13:46:02.962309",
     "exception": false,
     "start_time": "2023-07-15T13:45:57.863145",
     "status": "completed"
    },
    "tags": []
   },
   "outputs": [
    {
     "name": "stdout",
     "output_type": "stream",
     "text": [
      "12/12 [==============================] - 5s 331ms/step - loss: 0.2989 - accuracy: 0.8877 - precision: 0.8840 - recall: 0.8840\n"
     ]
    },
    {
     "data": {
      "text/plain": [
       "[0.29890942573547363,\n",
       " 0.8877005577087402,\n",
       " 0.8839778900146484,\n",
       " 0.8839778900146484]"
      ]
     },
     "execution_count": 20,
     "metadata": {},
     "output_type": "execute_result"
    }
   ],
   "source": [
    "model.evaluate(X_test,y_test)"
   ]
  },
  {
   "cell_type": "code",
   "execution_count": 21,
   "id": "31b886f2",
   "metadata": {
    "execution": {
     "iopub.execute_input": "2023-07-15T13:46:03.051849Z",
     "iopub.status.busy": "2023-07-15T13:46:03.051542Z",
     "iopub.status.idle": "2023-07-15T13:46:09.011790Z",
     "shell.execute_reply": "2023-07-15T13:46:09.010628Z"
    },
    "papermill": {
     "duration": 6.006786,
     "end_time": "2023-07-15T13:46:09.014789",
     "exception": false,
     "start_time": "2023-07-15T13:46:03.008003",
     "status": "completed"
    },
    "tags": []
   },
   "outputs": [
    {
     "name": "stdout",
     "output_type": "stream",
     "text": [
      "12/12 [==============================] - 5s 347ms/step\n"
     ]
    }
   ],
   "source": [
    "y_predicted=model.predict(X_test)"
   ]
  },
  {
   "cell_type": "code",
   "execution_count": 22,
   "id": "a3a6931c",
   "metadata": {
    "execution": {
     "iopub.execute_input": "2023-07-15T13:46:09.106136Z",
     "iopub.status.busy": "2023-07-15T13:46:09.105747Z",
     "iopub.status.idle": "2023-07-15T13:46:09.110641Z",
     "shell.execute_reply": "2023-07-15T13:46:09.109567Z"
    },
    "papermill": {
     "duration": 0.051524,
     "end_time": "2023-07-15T13:46:09.113317",
     "exception": false,
     "start_time": "2023-07-15T13:46:09.061793",
     "status": "completed"
    },
    "tags": []
   },
   "outputs": [],
   "source": [
    "y_predicted=y_predicted.flatten()"
   ]
  },
  {
   "cell_type": "code",
   "execution_count": 23,
   "id": "d9abcbb3",
   "metadata": {
    "execution": {
     "iopub.execute_input": "2023-07-15T13:46:09.199980Z",
     "iopub.status.busy": "2023-07-15T13:46:09.199714Z",
     "iopub.status.idle": "2023-07-15T13:46:09.207623Z",
     "shell.execute_reply": "2023-07-15T13:46:09.206643Z"
    },
    "papermill": {
     "duration": 0.053341,
     "end_time": "2023-07-15T13:46:09.209708",
     "exception": false,
     "start_time": "2023-07-15T13:46:09.156367",
     "status": "completed"
    },
    "tags": []
   },
   "outputs": [
    {
     "data": {
      "text/plain": [
       "array([0, 1, 0, 0, 1, 0, 0, 1, 0, 1, 0, 0, 1, 1, 1, 1, 0, 0, 1, 1, 1, 0,\n",
       "       0, 0, 1, 0, 1, 0, 0, 0, 1, 1, 1, 1, 1, 1, 1, 0, 0, 0, 1, 0, 0, 0,\n",
       "       0, 1, 0, 1, 1, 1, 0, 0, 1, 1, 0, 0, 0, 1, 0, 0, 0, 0, 0, 0, 0, 0,\n",
       "       0, 0, 1, 0, 0, 0, 0, 0, 0, 1, 1, 1, 1, 1, 1, 1, 0, 0, 1, 1, 1, 1,\n",
       "       1, 1, 0, 0, 1, 0, 1, 1, 0, 0, 0, 1, 0, 1, 1, 0, 0, 0, 0, 1, 0, 1,\n",
       "       1, 1, 1, 1, 0, 0, 1, 0, 1, 1, 0, 0, 1, 1, 0, 0, 1, 1, 0, 0, 0, 1,\n",
       "       0, 1, 1, 1, 0, 1, 0, 0, 0, 1, 1, 1, 0, 0, 0, 1, 0, 1, 1, 1, 0, 0,\n",
       "       0, 0, 1, 0, 1, 0, 1, 0, 0, 0, 1, 1, 1, 0, 0, 0, 0, 0, 0, 0, 1, 1,\n",
       "       0, 1, 0, 1, 1, 0, 0, 1, 1, 1, 0, 0, 0, 0, 1, 1, 0, 1, 0, 1, 1, 1,\n",
       "       1, 1, 1, 1, 1, 0, 1, 1, 1, 0, 0, 0, 1, 0, 1, 1, 0, 0, 0, 1, 1, 0,\n",
       "       0, 1, 0, 0, 1, 1, 0, 1, 0, 1, 0, 1, 0, 1, 1, 1, 0, 1, 0, 1, 0, 0,\n",
       "       0, 1, 1, 0, 1, 0, 0, 1, 1, 0, 0, 0, 1, 0, 1, 0, 1, 0, 1, 0, 0, 0,\n",
       "       0, 0, 1, 1, 0, 0, 0, 0, 1, 1, 0, 0, 1, 0, 0, 0, 0, 0, 0, 1, 1, 0,\n",
       "       1, 0, 0, 1, 0, 1, 0, 0, 0, 0, 1, 0, 1, 0, 1, 1, 1, 1, 1, 1, 1, 0,\n",
       "       1, 0, 1, 0, 1, 1, 1, 1, 0, 1, 0, 0, 0, 0, 0, 1, 1, 1, 0, 0, 1, 0,\n",
       "       1, 1, 0, 0, 1, 1, 1, 0, 0, 1, 1, 1, 0, 1, 0, 1, 1, 0, 1, 1, 0, 0,\n",
       "       0, 0, 0, 1, 1, 0, 1, 1, 1, 0, 1, 1, 1, 0, 0, 0, 1, 0, 1, 1, 0, 1])"
      ]
     },
     "execution_count": 23,
     "metadata": {},
     "output_type": "execute_result"
    }
   ],
   "source": [
    "\n",
    "y_predicted = np.where(y_predicted > 0.5, 1, 0)\n",
    "y_predicted"
   ]
  },
  {
   "cell_type": "code",
   "execution_count": 24,
   "id": "e2fb89c7",
   "metadata": {
    "execution": {
     "iopub.execute_input": "2023-07-15T13:46:09.296270Z",
     "iopub.status.busy": "2023-07-15T13:46:09.295961Z",
     "iopub.status.idle": "2023-07-15T13:46:09.312999Z",
     "shell.execute_reply": "2023-07-15T13:46:09.311672Z"
    },
    "papermill": {
     "duration": 0.062557,
     "end_time": "2023-07-15T13:46:09.315344",
     "exception": false,
     "start_time": "2023-07-15T13:46:09.252787",
     "status": "completed"
    },
    "tags": []
   },
   "outputs": [
    {
     "name": "stdout",
     "output_type": "stream",
     "text": [
      "              precision    recall  f1-score   support\n",
      "\n",
      "           0       0.89      0.89      0.89       193\n",
      "           1       0.88      0.88      0.88       181\n",
      "\n",
      "    accuracy                           0.89       374\n",
      "   macro avg       0.89      0.89      0.89       374\n",
      "weighted avg       0.89      0.89      0.89       374\n",
      "\n"
     ]
    }
   ],
   "source": [
    "print(classification_report(y_test,y_predicted))"
   ]
  },
  {
   "cell_type": "code",
   "execution_count": 25,
   "id": "281e5b20",
   "metadata": {
    "execution": {
     "iopub.execute_input": "2023-07-15T13:46:09.404627Z",
     "iopub.status.busy": "2023-07-15T13:46:09.404032Z",
     "iopub.status.idle": "2023-07-15T13:46:09.410029Z",
     "shell.execute_reply": "2023-07-15T13:46:09.409195Z"
    },
    "papermill": {
     "duration": 0.050883,
     "end_time": "2023-07-15T13:46:09.412135",
     "exception": false,
     "start_time": "2023-07-15T13:46:09.361252",
     "status": "completed"
    },
    "tags": []
   },
   "outputs": [],
   "source": [
    "reviews = [\n",
    "    'Enter a chance to win $5000, hurry up, offer valid until march 31, 2021',\n",
    "    'You are awarded a SiPix Digital Camera! call 09061221061 from landline. Delivery within 28days. T Cs Box177. M221BP. 2yr warranty. 150ppm. 16 . p pÂ£3.99',\n",
    "    'it to 80488. Your 500 free text messages are valid until 31 December 2005.',\n",
    "    'Hey Sam, Are you coming for a cricket game tomorrow',\n",
    "    \"Why don't you wait 'til at least wednesday to see if you get your .\",\n",
    "    \"Dont miss the chance get $100000000 by clicking this link http:vsvlslksdnvlkldvk\"\n",
    "]"
   ]
  },
  {
   "cell_type": "code",
   "execution_count": 26,
   "id": "57de82f1",
   "metadata": {
    "execution": {
     "iopub.execute_input": "2023-07-15T13:46:09.501533Z",
     "iopub.status.busy": "2023-07-15T13:46:09.501218Z",
     "iopub.status.idle": "2023-07-15T13:46:10.459822Z",
     "shell.execute_reply": "2023-07-15T13:46:10.458626Z"
    },
    "papermill": {
     "duration": 1.007462,
     "end_time": "2023-07-15T13:46:10.462268",
     "exception": false,
     "start_time": "2023-07-15T13:46:09.454806",
     "status": "completed"
    },
    "tags": []
   },
   "outputs": [
    {
     "name": "stdout",
     "output_type": "stream",
     "text": [
      "1/1 [==============================] - 1s 843ms/step\n"
     ]
    },
    {
     "data": {
      "text/plain": [
       "array([[0.798231  ],\n",
       "       [0.8944814 ],\n",
       "       [0.8782828 ],\n",
       "       [0.44492775],\n",
       "       [0.26584288],\n",
       "       [0.5294253 ]], dtype=float32)"
      ]
     },
     "execution_count": 26,
     "metadata": {},
     "output_type": "execute_result"
    }
   ],
   "source": [
    "model.predict(reviews)\n"
   ]
  },
  {
   "cell_type": "code",
   "execution_count": 27,
   "id": "79dbd2dc",
   "metadata": {
    "execution": {
     "iopub.execute_input": "2023-07-15T13:46:10.557485Z",
     "iopub.status.busy": "2023-07-15T13:46:10.557063Z",
     "iopub.status.idle": "2023-07-15T13:46:10.562853Z",
     "shell.execute_reply": "2023-07-15T13:46:10.561776Z"
    },
    "papermill": {
     "duration": 0.053033,
     "end_time": "2023-07-15T13:46:10.564959",
     "exception": false,
     "start_time": "2023-07-15T13:46:10.511926",
     "status": "completed"
    },
    "tags": []
   },
   "outputs": [],
   "source": [
    "def prediction(reviews):\n",
    "    predict=(model.predict(reviews)).flatten()\n",
    "    for i in predict:\n",
    "        if i>=0.5:\n",
    "            print(\"this email is a spam\")\n",
    "        else:\n",
    "            print(\"this email is ham\")"
   ]
  },
  {
   "cell_type": "code",
   "execution_count": 28,
   "id": "dd0f4e0b",
   "metadata": {
    "execution": {
     "iopub.execute_input": "2023-07-15T13:46:10.656386Z",
     "iopub.status.busy": "2023-07-15T13:46:10.655469Z",
     "iopub.status.idle": "2023-07-15T13:46:10.821373Z",
     "shell.execute_reply": "2023-07-15T13:46:10.820253Z"
    },
    "papermill": {
     "duration": 0.214238,
     "end_time": "2023-07-15T13:46:10.823802",
     "exception": false,
     "start_time": "2023-07-15T13:46:10.609564",
     "status": "completed"
    },
    "tags": []
   },
   "outputs": [
    {
     "name": "stdout",
     "output_type": "stream",
     "text": [
      "1/1 [==============================] - 0s 55ms/step\n",
      "this email is a spam\n",
      "this email is a spam\n",
      "this email is a spam\n",
      "this email is ham\n",
      "this email is ham\n",
      "this email is a spam\n"
     ]
    }
   ],
   "source": [
    "prediction(reviews)"
   ]
  },
  {
   "cell_type": "code",
   "execution_count": null,
   "id": "6689acf7",
   "metadata": {
    "papermill": {
     "duration": 0.041783,
     "end_time": "2023-07-15T13:46:10.909458",
     "exception": false,
     "start_time": "2023-07-15T13:46:10.867675",
     "status": "completed"
    },
    "tags": []
   },
   "outputs": [],
   "source": []
  },
  {
   "cell_type": "code",
   "execution_count": null,
   "id": "1b49509e",
   "metadata": {
    "papermill": {
     "duration": 0.041359,
     "end_time": "2023-07-15T13:46:10.992635",
     "exception": false,
     "start_time": "2023-07-15T13:46:10.951276",
     "status": "completed"
    },
    "tags": []
   },
   "outputs": [],
   "source": []
  },
  {
   "cell_type": "code",
   "execution_count": null,
   "id": "fdf43cc7",
   "metadata": {
    "papermill": {
     "duration": 0.044859,
     "end_time": "2023-07-15T13:46:11.079534",
     "exception": false,
     "start_time": "2023-07-15T13:46:11.034675",
     "status": "completed"
    },
    "tags": []
   },
   "outputs": [],
   "source": []
  },
  {
   "cell_type": "code",
   "execution_count": null,
   "id": "e14e4447",
   "metadata": {
    "papermill": {
     "duration": 0.041261,
     "end_time": "2023-07-15T13:46:11.162491",
     "exception": false,
     "start_time": "2023-07-15T13:46:11.121230",
     "status": "completed"
    },
    "tags": []
   },
   "outputs": [],
   "source": []
  },
  {
   "cell_type": "code",
   "execution_count": null,
   "id": "eecf08b3",
   "metadata": {
    "papermill": {
     "duration": 0.041139,
     "end_time": "2023-07-15T13:46:11.245506",
     "exception": false,
     "start_time": "2023-07-15T13:46:11.204367",
     "status": "completed"
    },
    "tags": []
   },
   "outputs": [],
   "source": []
  },
  {
   "cell_type": "code",
   "execution_count": null,
   "id": "d6899e66",
   "metadata": {
    "papermill": {
     "duration": 0.042001,
     "end_time": "2023-07-15T13:46:11.329209",
     "exception": false,
     "start_time": "2023-07-15T13:46:11.287208",
     "status": "completed"
    },
    "tags": []
   },
   "outputs": [],
   "source": []
  }
 ],
 "metadata": {
  "kernelspec": {
   "display_name": "Python 3",
   "language": "python",
   "name": "python3"
  },
  "language_info": {
   "codemirror_mode": {
    "name": "ipython",
    "version": 3
   },
   "file_extension": ".py",
   "mimetype": "text/x-python",
   "name": "python",
   "nbconvert_exporter": "python",
   "pygments_lexer": "ipython3",
   "version": "3.10.12"
  },
  "papermill": {
   "default_parameters": {},
   "duration": 218.980649,
   "end_time": "2023-07-15T13:46:15.206888",
   "environment_variables": {},
   "exception": null,
   "input_path": "__notebook__.ipynb",
   "output_path": "__notebook__.ipynb",
   "parameters": {},
   "start_time": "2023-07-15T13:42:36.226239",
   "version": "2.4.0"
  }
 },
 "nbformat": 4,
 "nbformat_minor": 5
}
